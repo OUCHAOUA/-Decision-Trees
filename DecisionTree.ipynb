{
 "cells": [
  {
   "cell_type": "markdown",
   "metadata": {},
   "source": [
    "We are going to predict once again if a passenger on the Titanic is going to survive or not using decision trees and random forests this time: \n",
    "\n",
    "1. Read your Titanic dataset as usual: Training set and Testing set Apply decision tree. \n",
    "2. Plot your decision tree and try to read the tree branches and conclude a prediction manually.\n",
    "3. Change the decision tree parameters(change at least two parameters), \n",
    "4. Calculate the new accuracy and compare it with the previous results. \n",
    "5. Use random forest then change the number of estimators\n",
    "6. Calculate the new accuracy and compare it with the previous result."
   ]
  },
  {
   "cell_type": "code",
   "execution_count": 1,
   "metadata": {},
   "outputs": [
    {
     "data": {
      "text/html": [
       "<div>\n",
       "<style scoped>\n",
       "    .dataframe tbody tr th:only-of-type {\n",
       "        vertical-align: middle;\n",
       "    }\n",
       "\n",
       "    .dataframe tbody tr th {\n",
       "        vertical-align: top;\n",
       "    }\n",
       "\n",
       "    .dataframe thead th {\n",
       "        text-align: right;\n",
       "    }\n",
       "</style>\n",
       "<table border=\"1\" class=\"dataframe\">\n",
       "  <thead>\n",
       "    <tr style=\"text-align: right;\">\n",
       "      <th></th>\n",
       "      <th>Survived</th>\n",
       "      <th>isMale</th>\n",
       "      <th>Age</th>\n",
       "      <th>Fare</th>\n",
       "      <th>Family_Size</th>\n",
       "      <th>Pclass_First</th>\n",
       "      <th>Pclass_Second</th>\n",
       "      <th>Pclass_Third</th>\n",
       "      <th>Embarked_C</th>\n",
       "      <th>Embarked_Q</th>\n",
       "      <th>Embarked_S</th>\n",
       "    </tr>\n",
       "  </thead>\n",
       "  <tbody>\n",
       "    <tr>\n",
       "      <th>0</th>\n",
       "      <td>0</td>\n",
       "      <td>1</td>\n",
       "      <td>28.0</td>\n",
       "      <td>13.00</td>\n",
       "      <td>1</td>\n",
       "      <td>0</td>\n",
       "      <td>1</td>\n",
       "      <td>0</td>\n",
       "      <td>0</td>\n",
       "      <td>0</td>\n",
       "      <td>1</td>\n",
       "    </tr>\n",
       "    <tr>\n",
       "      <th>1</th>\n",
       "      <td>0</td>\n",
       "      <td>1</td>\n",
       "      <td>25.0</td>\n",
       "      <td>7.65</td>\n",
       "      <td>1</td>\n",
       "      <td>0</td>\n",
       "      <td>0</td>\n",
       "      <td>1</td>\n",
       "      <td>0</td>\n",
       "      <td>0</td>\n",
       "      <td>1</td>\n",
       "    </tr>\n",
       "    <tr>\n",
       "      <th>2</th>\n",
       "      <td>0</td>\n",
       "      <td>1</td>\n",
       "      <td>20.0</td>\n",
       "      <td>7.85</td>\n",
       "      <td>1</td>\n",
       "      <td>0</td>\n",
       "      <td>0</td>\n",
       "      <td>1</td>\n",
       "      <td>0</td>\n",
       "      <td>0</td>\n",
       "      <td>1</td>\n",
       "    </tr>\n",
       "    <tr>\n",
       "      <th>3</th>\n",
       "      <td>0</td>\n",
       "      <td>0</td>\n",
       "      <td>29.0</td>\n",
       "      <td>21.08</td>\n",
       "      <td>5</td>\n",
       "      <td>0</td>\n",
       "      <td>0</td>\n",
       "      <td>1</td>\n",
       "      <td>0</td>\n",
       "      <td>0</td>\n",
       "      <td>1</td>\n",
       "    </tr>\n",
       "    <tr>\n",
       "      <th>4</th>\n",
       "      <td>0</td>\n",
       "      <td>1</td>\n",
       "      <td>31.0</td>\n",
       "      <td>52.00</td>\n",
       "      <td>2</td>\n",
       "      <td>1</td>\n",
       "      <td>0</td>\n",
       "      <td>0</td>\n",
       "      <td>0</td>\n",
       "      <td>0</td>\n",
       "      <td>1</td>\n",
       "    </tr>\n",
       "  </tbody>\n",
       "</table>\n",
       "</div>"
      ],
      "text/plain": [
       "   Survived  isMale   Age   Fare  Family_Size  Pclass_First  Pclass_Second  \\\n",
       "0         0       1  28.0  13.00            1             0              1   \n",
       "1         0       1  25.0   7.65            1             0              0   \n",
       "2         0       1  20.0   7.85            1             0              0   \n",
       "3         0       0  29.0  21.08            5             0              0   \n",
       "4         0       1  31.0  52.00            2             1              0   \n",
       "\n",
       "   Pclass_Third  Embarked_C  Embarked_Q  Embarked_S  \n",
       "0             0           0           0           1  \n",
       "1             1           0           0           1  \n",
       "2             1           0           0           1  \n",
       "3             1           0           0           1  \n",
       "4             0           0           0           1  "
      ]
     },
     "execution_count": 1,
     "metadata": {},
     "output_type": "execute_result"
    }
   ],
   "source": [
    "#Importing our dataset from csv file\n",
    "import pandas as pd \n",
    "dataset=pd.read_csv(\"titanic-passengers.csv\", sep=\";\")\n",
    "\n",
    "#Preprocessing our data\n",
    "def preprocess_data(new_data):\n",
    "    new_data.Survived.replace({\"Yes\" : 1 , \"No\" : 0}, inplace = True) \n",
    "    \n",
    "    new_data['Age'].fillna(new_data['Age'].mean(), inplace=True) \n",
    "     \n",
    "    new_data.Sex.replace({'male': 1,'female':0}, inplace=True)\n",
    "    new_data.rename(columns = { 'Sex' : 'isMale'}, inplace=True)\n",
    "    \n",
    "    new_data.Pclass.replace({ 1: 'First',2 : 'Second', 3 : 'Third'}, inplace=True)\n",
    "    \n",
    "    new_data.Fare = new_data.Fare.round(2)\n",
    "    new_data['Family_Size'] = 1 + new_data.SibSp + new_data.Parch \n",
    "    \n",
    "    new_data.Embarked = new_data.Embarked.fillna(\"S\")\n",
    "    \n",
    "    new_data.drop([\"PassengerId\", \"Name\", \"Ticket\", \"Cabin\", \"SibSp\", \"Parch\"], axis=1, inplace = True)\n",
    "    new_data = pd.get_dummies(new_data)\n",
    "    return new_data\n",
    "\n",
    "data = preprocess_data(dataset)\n",
    "data.head()"
   ]
  },
  {
   "cell_type": "code",
   "execution_count": 2,
   "metadata": {},
   "outputs": [],
   "source": [
    "#importing relevant libraries\n",
    "from sklearn.model_selection import train_test_split\n",
    "from sklearn import tree \n",
    "from sklearn.tree import DecisionTreeClassifier\n",
    "from sklearn.metrics import accuracy_score"
   ]
  },
  {
   "cell_type": "code",
   "execution_count": 3,
   "metadata": {},
   "outputs": [],
   "source": [
    "#features extraction\n",
    "x = data.drop([\"Survived\"], axis=1)\n",
    "y = data[\"Survived\"]\n",
    "\n",
    "#splitting data\n",
    "x_train, x_test, y_train, y_test = train_test_split(x,y, test_size=0.25,random_state=1)"
   ]
  },
  {
   "cell_type": "code",
   "execution_count": 4,
   "metadata": {},
   "outputs": [
    {
     "name": "stdout",
     "output_type": "stream",
     "text": [
      "score:0.7713004484304933\n"
     ]
    }
   ],
   "source": [
    "#applying tree algorithm with standard parametre\n",
    "\n",
    "clf_std = DecisionTreeClassifier()\n",
    "clf_std.fit(x_train, y_train)   #fitting our model\n",
    "y_pred = clf_std.predict(x_test)   # evaluating our model\n",
    "print(\"score:{}\".format(accuracy_score(y_test, y_pred)))"
   ]
  },
  {
   "cell_type": "code",
   "execution_count": 5,
   "metadata": {},
   "outputs": [],
   "source": [
    "import os\n",
    "os.environ['PATH'] = os.environ['PATH']+';'+os.environ['CONDA_PREFIX']+r\"\\Library\\bin\\graphviz\"\n",
    "\n",
    "import pydotplus\n",
    "from IPython.display import IFrame\n",
    "from io import StringIO\n",
    "\n",
    "def decision_tree_pdf(model,feature_name,target_name):\n",
    "    dot_data = StringIO()  \n",
    "    tree.export_graphviz(model, out_file=dot_data,  \n",
    "                         feature_names=feature_name,  \n",
    "                         class_names=target_name,  \n",
    "                         filled=True, rounded=True,  \n",
    "                         special_characters=True)  \n",
    "    graph = pydotplus.graph_from_dot_data(dot_data.getvalue())\n",
    "    graph.write_pdf(\"tree.pdf\")\n",
    "    "
   ]
  },
  {
   "cell_type": "code",
   "execution_count": 6,
   "metadata": {},
   "outputs": [
    {
     "data": {
      "text/html": [
       "\n",
       "        <iframe\n",
       "            width=\"900\"\n",
       "            height=\"400\"\n",
       "            src=\"tree.pdf\"\n",
       "            frameborder=\"0\"\n",
       "            allowfullscreen\n",
       "        ></iframe>\n",
       "        "
      ],
      "text/plain": [
       "<IPython.lib.display.IFrame at 0xa32d2d0>"
      ]
     },
     "execution_count": 6,
     "metadata": {},
     "output_type": "execute_result"
    }
   ],
   "source": [
    "decision_tree_pdf(clf_std, x_train.columns,'Survived')\n",
    "IFrame(\"tree.pdf\", width=900, height=400)"
   ]
  },
  {
   "cell_type": "code",
   "execution_count": 7,
   "metadata": {},
   "outputs": [
    {
     "data": {
      "text/plain": [
       "{'criterion': 'entropy',\n",
       " 'max_depth': 7,\n",
       " 'min_samples_split': 4,\n",
       " 'random_state': 1,\n",
       " 'splitter': 'random'}"
      ]
     },
     "execution_count": 7,
     "metadata": {},
     "output_type": "execute_result"
    }
   ],
   "source": [
    "from sklearn.model_selection import GridSearchCV\n",
    "\n",
    "tree_para = {'criterion': ['gini','entropy'],\n",
    "             'max_depth': [4,5,6,7,8,9,10],\n",
    "             'min_samples_split' : [4,5,6,7,8,9,10],\n",
    "             'random_state' : [1,3,5],\n",
    "             'splitter' : ['best', 'random'] }\n",
    "\n",
    "CV_clf = GridSearchCV(estimator=clf_std, param_grid=tree_para, cv= 5)\n",
    "CV_clf.fit(x_train, y_train)\n",
    "CV_clf.best_params_"
   ]
  },
  {
   "cell_type": "code",
   "execution_count": 8,
   "metadata": {},
   "outputs": [
    {
     "name": "stdout",
     "output_type": "stream",
     "text": [
      "score:0.820627802690583\n"
     ]
    }
   ],
   "source": [
    "#applying tree algorithm with best parametre\n",
    "clf_best = DecisionTreeClassifier(criterion=CV_clf.best_params_['criterion'],\n",
    "                                  max_depth=CV_clf.best_params_['max_depth'],\n",
    "                                  min_samples_split=CV_clf.best_params_['min_samples_split'],\n",
    "                                  random_state=CV_clf.best_params_['random_state'],\n",
    "                                  splitter=CV_clf.best_params_['splitter']) \n",
    "\n",
    "clf_best.fit(x_train, y_train)   #fitting our model\n",
    "y_pred = clf_best.predict(x_test)   # evaluating our model\n",
    "print(\"score:{}\".format(accuracy_score(y_test, y_pred)))"
   ]
  },
  {
   "cell_type": "markdown",
   "metadata": {},
   "source": [
    "le score s'améliore avec des paramètre plus précis"
   ]
  },
  {
   "cell_type": "code",
   "execution_count": 9,
   "metadata": {},
   "outputs": [
    {
     "name": "stdout",
     "output_type": "stream",
     "text": [
      "score:0.7668161434977578\n"
     ]
    }
   ],
   "source": [
    "from sklearn.ensemble import RandomForestClassifier\n",
    "\n",
    "#applying random tree algorithm\n",
    "rlf_std = RandomForestClassifier()\n",
    "rlf_std.fit(x_train, y_train)   #fitting our model\n",
    "y_pred = rlf_std.predict(x_test)   # evaluating our model\n",
    "print(\"score:{}\".format(accuracy_score(y_test, y_pred)))"
   ]
  },
  {
   "cell_type": "code",
   "execution_count": 10,
   "metadata": {},
   "outputs": [
    {
     "name": "stdout",
     "output_type": "stream",
     "text": [
      "best score:0.8071748878923767 with 3 n_estimators\n"
     ]
    },
    {
     "data": {
      "image/png": "[encoded data removed]",
      "text/plain": [
       "<Figure size 1080x216 with 1 Axes>"
      ]
     },
     "metadata": {
      "needs_background": "light"
     },
     "output_type": "display_data"
    }
   ],
   "source": [
    "import matplotlib.pyplot as plt\n",
    "scores = []\n",
    "\n",
    "for n_estimators in range(1 , 100):\n",
    "    #applying random tree algorithm\n",
    "    rlf = RandomForestClassifier(n_estimators = n_estimators)\n",
    "    rlf.fit(x_train, y_train)   #fitting our model\n",
    "    y_pred=rlf.predict(x_test)   # evaluating our model\n",
    "    scores.append(accuracy_score(y_test, y_pred))\n",
    "    \n",
    "x, y = max((val, idx) for (idx, val) in enumerate(scores))\n",
    "figure = plt.subplots(figsize=(15, 3))\n",
    "plt.plot(scores)\n",
    "plt.scatter(y, x, marker='+', c = 'r')\n",
    "\n",
    "print(\"best score:{} with {} n_estimators\".format(x,y))\n",
    "rlf_best_estimators = RandomForestClassifier(n_estimators = y)"
   ]
  },
  {
   "cell_type": "code",
   "execution_count": 13,
   "metadata": {},
   "outputs": [
    {
     "name": "stdout",
     "output_type": "stream",
     "text": [
      "0.7668 -- DecisionTreeClassifier() \n",
      "0.8206 -- DecisionTreeClassifier(criterion='entropy', max_depth=7, min_samples_split=4,\n",
      "                       random_state=1, splitter='random') \n",
      "0.7758 -- RandomForestClassifier() \n",
      "0.7848 -- RandomForestClassifier(n_estimators=3) \n"
     ]
    }
   ],
   "source": [
    "for model in (clf_std, clf_best, rlf_std,  rlf_best_estimators):\n",
    "    model.fit(x_train, y_train)   \n",
    "    print (f'{round(model.score(x_test, y_test),4)} -- {model} ')"
   ]
  },
  {
   "cell_type": "markdown",
   "metadata": {},
   "source": [
    "Le choix du **model apprentissage** et de son **paramétrage** est important,\n",
    "\n",
    " - ici le score est plus important pour le DecisionTreeClassifier avec un ajustement de plusieur paramétre \n",
    "\n",
    "reste a comprendre comment choisir le bon model et les meilleur paramétrage"
   ]
  },
  {
   "cell_type": "code",
   "execution_count": null,
   "metadata": {},
   "outputs": [],
   "source": []
  }
 ],
 "metadata": {
  "kernelspec": {
   "display_name": "Python 3",
   "language": "python",
   "name": "python3"
  },
  "language_info": {
   "codemirror_mode": {
    "name": "ipython",
    "version": 3
   },
   "file_extension": ".py",
   "mimetype": "text/x-python",
   "name": "python",
   "nbconvert_exporter": "python",
   "pygments_lexer": "ipython3",
   "version": "3.7.6"
  }
 },
 "nbformat": 4,
 "nbformat_minor": 4
}
